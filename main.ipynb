{
 "cells": [
  {
   "cell_type": "code",
   "execution_count": 1,
   "metadata": {},
   "outputs": [],
   "source": [
    "import numpy as np\n",
    "import pandas as pd\n",
    "import tensorflow as tf\n",
    "from keras.preprocessing.image import ImageDataGenerator\n",
    "from keras.preprocessing import image\n",
    "import os"
   ]
  },
  {
   "cell_type": "markdown",
   "metadata": {},
   "source": [
    "Load Model"
   ]
  },
  {
   "cell_type": "code",
   "execution_count": 2,
   "metadata": {},
   "outputs": [],
   "source": [
    "cnn = tf.keras.models.load_model('car_pred_V_1_1.keras')"
   ]
  },
  {
   "cell_type": "code",
   "execution_count": 3,
   "metadata": {},
   "outputs": [
    {
     "data": {
      "text/plain": [
       "keras.src.engine.sequential.Sequential"
      ]
     },
     "execution_count": 3,
     "metadata": {},
     "output_type": "execute_result"
    }
   ],
   "source": [
    "cnn.__class__"
   ]
  },
  {
   "cell_type": "code",
   "execution_count": 4,
   "metadata": {},
   "outputs": [
    {
     "name": "stdout",
     "output_type": "stream",
     "text": [
      "Enter the File Path of Your Image (Complete)\n"
     ]
    }
   ],
   "source": [
    "j =0\n",
    "print(\"Enter the File Path of Your Image (Complete)\")\n",
    "file_path= input()\n",
    "class_names = ['Audi', 'Bmw', 'Ford', 'Mercedes', 'Nissan']\n",
    "for file in os.listdir(file_path):\n",
    "    file = file_path + \"\\\\\" + file\n",
    "    img = image.load_img(file, target_size=(128, 128),color_mode=\"grayscale\")\n",
    "    img = image.img_to_array(img)\n",
    "    img = np.expand_dims(img, axis = 0)\n",
    "    result = cnn.predict(img/255.0)\n",
    "    predicted_labels = np.argmax(result, axis=1)#The np.argmax() function selects the highest of the predicted class probabilities, and the predicted returns class labels.\n",
    "    predicted_class_names = np.array(class_names)[predicted_labels]\n",
    "    print(\"--------- \",j+1,\".Image ---------\")\n",
    "    for i in range(len(predicted_class_names)):\n",
    "        print(j+1,\".Estimation for Image: \", predicted_class_names[i])\n",
    "    j+=1"
   ]
  },
  {
   "cell_type": "code",
   "execution_count": null,
   "metadata": {},
   "outputs": [],
   "source": []
  }
 ],
 "metadata": {
  "kernelspec": {
   "display_name": "base",
   "language": "python",
   "name": "python3"
  },
  "language_info": {
   "codemirror_mode": {
    "name": "ipython",
    "version": 3
   },
   "file_extension": ".py",
   "mimetype": "text/x-python",
   "name": "python",
   "nbconvert_exporter": "python",
   "pygments_lexer": "ipython3",
   "version": "3.11.4"
  }
 },
 "nbformat": 4,
 "nbformat_minor": 2
}
